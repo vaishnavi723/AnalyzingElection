{
  "nbformat": 4,
  "nbformat_minor": 0,
  "metadata": {
    "colab": {
      "provenance": []
    },
    "kernelspec": {
      "name": "python3",
      "display_name": "Python 3"
    },
    "language_info": {
      "name": "python"
    }
  },
  "cells": [
    {
      "cell_type": "code",
      "source": [
        "import pandas as pd\n"
      ],
      "metadata": {
        "id": "zLHUMwEqv4TP"
      },
      "execution_count": 4,
      "outputs": []
    },
    {
      "cell_type": "code",
      "execution_count": 1,
      "metadata": {
        "id": "nXGS5asVva_s"
      },
      "outputs": [],
      "source": [
        "\n",
        "# Create sample election data\n",
        "data = {\n",
        "    'Constituency': ['District1', 'District1', 'District1',\n",
        "                    'District2', 'District2', 'District2',\n",
        "                    'District3', 'District3', 'District3'],\n",
        "    'Party': ['Party A', 'Party B', 'Party C',\n",
        "             'Party A', 'Party B', 'Party C',\n",
        "             'Party A', 'Party B', 'Party C'],\n",
        "    'Candidate': ['John Smith', 'Jane Doe', 'Bob Wilson',\n",
        "                 'Alice Brown', 'Mike Jones', 'Sarah Davis',\n",
        "                 'Tom White', 'Lucy Black', 'Peter Green'],\n",
        "    'Votes': [1500, 1200, 800,\n",
        "             2000, 2200, 1800,\n",
        "             1700, 1600, 1400]\n",
        "}\n",
        "\n"
      ]
    },
    {
      "cell_type": "code",
      "source": [
        "# Create DataFrame\n",
        "df = pd.DataFrame(data)\n",
        "\n",
        "def calculate_total_votes_per_party():\n",
        "    \"\"\"Calculate total votes received by each party across all constituencies\"\"\"\n",
        "    return df.groupby('Party')['Votes'].sum()\n",
        "\n",
        "def get_winning_party(constituency_data):\n",
        "    \"\"\"Find the party with maximum votes in a constituency\"\"\"\n",
        "    max_votes_idx = constituency_data['Votes'].idxmax()\n",
        "    return constituency_data.loc[max_votes_idx, 'Party']\n",
        "\n",
        "def find_constituency_winners():\n",
        "    \"\"\"Identify winning party in each constituency\"\"\"\n",
        "    return df.groupby('Constituency').apply(get_winning_party)\n",
        "\n",
        "def determine_overall_winner():\n",
        "    \"\"\"Find the party with the highest total votes\"\"\"\n",
        "    total_votes = calculate_total_votes_per_party()\n",
        "    return total_votes.idxmax()\n",
        "\n",
        "def calculate_vote_share():\n",
        "    \"\"\"Calculate vote share percentages for each candidate\"\"\"\n",
        "    total_votes_per_constituency = df.groupby('Constituency')['Votes'].sum()\n",
        "    df['Vote_Share'] = df.apply(\n",
        "        lambda x: (x['Votes'] / total_votes_per_constituency[x['Constituency']]) * 100,\n",
        "        axis=1\n",
        "    )\n",
        "    return df\n",
        "\n",
        "def identify_close_contests(margin_threshold=12):\n",
        "    \"\"\"\n",
        "    Identify constituencies with close contests\n",
        "    (vote margin between top two candidates less than threshold%)\n",
        "    \"\"\"\n",
        "    close_contests = []\n",
        "\n",
        "    for constituency in df['Constituency'].unique():\n",
        "        constituency_data = df[df['Constituency'] == constituency].copy()\n",
        "        constituency_data = constituency_data.sort_values('Votes', ascending=False)\n",
        "\n",
        "        if len(constituency_data) >= 2:\n",
        "            top_votes = constituency_data.iloc[0]['Votes']\n",
        "            second_votes = constituency_data.iloc[1]['Votes']\n",
        "            total_votes = constituency_data['Votes'].sum()\n",
        "\n",
        "            margin = ((top_votes - second_votes) / total_votes) * 100\n",
        "\n",
        "            if margin < margin_threshold:\n",
        "                close_contests.append({\n",
        "                    'Constituency': constituency,\n",
        "                    'Margin': margin,\n",
        "                    'Winner': constituency_data.iloc[0]['Party'],\n",
        "                    'Runner_up': constituency_data.iloc[1]['Party']\n",
        "                })\n",
        "\n",
        "    return pd.DataFrame(close_contests)\n"
      ],
      "metadata": {
        "id": "88yQwfTMviui"
      },
      "execution_count": 2,
      "outputs": []
    },
    {
      "cell_type": "code",
      "source": [
        "\n",
        "# Main analysis\n",
        "if __name__ == \"__main__\":\n",
        "    print(\"\\nTotal votes per party:\")\n",
        "    print(calculate_total_votes_per_party())\n",
        "\n",
        "    print(\"\\nConstituency winners:\")\n",
        "    print(find_constituency_winners())\n",
        "\n",
        "    print(\"\\nOverall winner:\")\n",
        "    print(determine_overall_winner())\n",
        "\n",
        "    print(\"\\nVote shares:\")\n",
        "    print(calculate_vote_share()[['Constituency', 'Party', 'Candidate', 'Votes', 'Vote_Share']])\n",
        "\n",
        "    print(\"\\nClose contests (margin < 12%):\")\n",
        "    print(identify_close_contests())"
      ],
      "metadata": {
        "colab": {
          "base_uri": "https://localhost:8080/"
        },
        "id": "-iqFCV5yvpzE",
        "outputId": "f116bc38-478f-4c67-d208-149a5e68a618"
      },
      "execution_count": 3,
      "outputs": [
        {
          "output_type": "stream",
          "name": "stdout",
          "text": [
            "\n",
            "Total votes per party:\n",
            "Party\n",
            "Party A    5200\n",
            "Party B    5000\n",
            "Party C    4000\n",
            "Name: Votes, dtype: int64\n",
            "\n",
            "Constituency winners:\n",
            "Constituency\n",
            "District1    Party A\n",
            "District2    Party B\n",
            "District3    Party A\n",
            "dtype: object\n",
            "\n",
            "Overall winner:\n",
            "Party A\n",
            "\n",
            "Vote shares:\n"
          ]
        },
        {
          "output_type": "stream",
          "name": "stderr",
          "text": [
            "<ipython-input-2-faadb364e52e>:15: DeprecationWarning: DataFrameGroupBy.apply operated on the grouping columns. This behavior is deprecated, and in a future version of pandas the grouping columns will be excluded from the operation. Either pass `include_groups=False` to exclude the groupings or explicitly select the grouping columns after groupby to silence this warning.\n",
            "  return df.groupby('Constituency').apply(get_winning_party)\n"
          ]
        },
        {
          "output_type": "stream",
          "name": "stdout",
          "text": [
            "  Constituency    Party    Candidate  Votes  Vote_Share\n",
            "0    District1  Party A   John Smith   1500   42.857143\n",
            "1    District1  Party B     Jane Doe   1200   34.285714\n",
            "2    District1  Party C   Bob Wilson    800   22.857143\n",
            "3    District2  Party A  Alice Brown   2000   33.333333\n",
            "4    District2  Party B   Mike Jones   2200   36.666667\n",
            "5    District2  Party C  Sarah Davis   1800   30.000000\n",
            "6    District3  Party A    Tom White   1700   36.170213\n",
            "7    District3  Party B   Lucy Black   1600   34.042553\n",
            "8    District3  Party C  Peter Green   1400   29.787234\n",
            "\n",
            "Close contests (margin < 12%):\n",
            "  Constituency    Margin   Winner Runner_up\n",
            "0    District1  8.571429  Party A   Party B\n",
            "1    District2  3.333333  Party B   Party A\n",
            "2    District3  2.127660  Party A   Party B\n"
          ]
        }
      ]
    }
  ]
}